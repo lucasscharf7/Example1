{
  "nbformat": 4,
  "nbformat_minor": 0,
  "metadata": {
    "colab": {
      "name": "MNIST_CNN_HelloWorld_DLinColab.ipynb",
      "provenance": [],
      "collapsed_sections": [],
      "toc_visible": true,
      "include_colab_link": true
    },
    "kernelspec": {
      "name": "python3",
      "display_name": "Python 3"
    },
    "accelerator": "GPU"
  },
  "cells": [
    {
      "cell_type": "markdown",
      "metadata": {
        "id": "view-in-github",
        "colab_type": "text"
      },
      "source": [
        "<a href=\"https://colab.research.google.com/github/lucasscharf7/Example1/blob/master/MNIST_CNN_HelloWorld_DLinColab.ipynb\" target=\"_parent\"><img src=\"https://colab.research.google.com/assets/colab-badge.svg\" alt=\"Open In Colab\"/></a>"
      ]
    },
    {
      "cell_type": "markdown",
      "metadata": {
        "id": "C8QdNgqhrIUn"
      },
      "source": [
        "# Prepare the workspace - load Keras, Tensorflow"
      ]
    },
    {
      "cell_type": "code",
      "metadata": {
        "id": "TPcE-cf03x1G"
      },
      "source": [
        "from __future__ import print_function\n",
        "import keras\n",
        "from keras.datasets import mnist\n",
        "from keras.models import Sequential\n",
        "from keras.layers import Dense, Dropout, Flatten\n",
        "from keras.layers import Conv2D, MaxPooling2D\n",
        "from keras import backend as K\n",
        "import matplotlib.pyplot as plt"
      ],
      "execution_count": null,
      "outputs": []
    },
    {
      "cell_type": "markdown",
      "metadata": {
        "id": "p7GQglE4u3IB"
      },
      "source": [
        "# Import the MNIST dataset + create variables for our test and training data"
      ]
    },
    {
      "cell_type": "code",
      "metadata": {
        "id": "vk-aKTUq37Mp",
        "colab": {
          "base_uri": "https://localhost:8080/"
        },
        "outputId": "b8dd688f-3b7b-480f-c519-76f22fb36222"
      },
      "source": [
        "(x_train, y_train), (x_test, y_test) = mnist.load_data()"
      ],
      "execution_count": null,
      "outputs": [
        {
          "output_type": "stream",
          "text": [
            "Downloading data from https://storage.googleapis.com/tensorflow/tf-keras-datasets/mnist.npz\n",
            "11493376/11490434 [==============================] - 0s 0us/step\n"
          ],
          "name": "stdout"
        }
      ]
    },
    {
      "cell_type": "markdown",
      "metadata": {
        "id": "rF6PmE2CMJhy"
      },
      "source": [
        "# CNN specific shape of the data"
      ]
    },
    {
      "cell_type": "code",
      "metadata": {
        "id": "FTrzMFS1MI_w"
      },
      "source": [
        "# input image dimensions of MNIST data\n",
        "img_rows, img_cols = 28, 28\n",
        "x_train = x_train.reshape(x_train.shape[0], img_rows, img_cols, 1)\n",
        "x_test = x_test.reshape(x_test.shape[0], img_rows, img_cols, 1)"
      ],
      "execution_count": null,
      "outputs": []
    },
    {
      "cell_type": "markdown",
      "metadata": {
        "id": "Rn5M-JoHzCDm"
      },
      "source": [
        "# Preprocess the data\n",
        "Note we do not shape it into a 1D vector of size 28*28 = 784 here, but rather keep the images as 28 x 28 x 1 to be used with 2D convolution layer.\n",
        "\n",
        "Compare this preprocessing steps in the code MNIST_HelloWorld_DLinR code!"
      ]
    },
    {
      "cell_type": "code",
      "metadata": {
        "id": "JHL9_0sE3_1Q",
        "colab": {
          "base_uri": "https://localhost:8080/"
        },
        "outputId": "3108f19c-b036-4af9-ad5a-5ca005d16005"
      },
      "source": [
        "# rescale\n",
        "x_train = x_train.astype('float32')\n",
        "x_test = x_test.astype('float32')\n",
        "x_train /= 255\n",
        "x_test /= 255\n",
        "print('x_train shape:', x_train.shape)\n",
        "print('x_test shape:', x_test.shape)\n",
        "print(x_train.shape[0], 'train samples')\n",
        "print(x_test.shape[0], 'test samples')\n"
      ],
      "execution_count": null,
      "outputs": [
        {
          "output_type": "stream",
          "text": [
            "x_train shape: (60000, 28, 28, 1)\n",
            "x_test shape: (10000, 28, 28, 1)\n",
            "60000 train samples\n",
            "10000 test samples\n"
          ],
          "name": "stdout"
        }
      ]
    },
    {
      "cell_type": "markdown",
      "metadata": {
        "id": "2SHl08dwz0st"
      },
      "source": [
        "## The y data is an integer vector with values ranging from 0 to 9.  To prepare this data for training we one-hot encode the vectors into binary class matrices"
      ]
    },
    {
      "cell_type": "code",
      "metadata": {
        "id": "tczq1zJJ4Bd0",
        "colab": {
          "base_uri": "https://localhost:8080/"
        },
        "outputId": "8b780d20-6dbd-4979-d587-a00a203db5cc"
      },
      "source": [
        "# One hot encoding\n",
        "y_train = keras.utils.to_categorical(y_train, 10)\n",
        "y_test = keras.utils.to_categorical(y_test, 10)\n",
        "print('y_train shape:', y_train.shape)\n",
        "print('y_test shape:', y_test.shape)"
      ],
      "execution_count": null,
      "outputs": [
        {
          "output_type": "stream",
          "text": [
            "y_train shape: (60000, 10)\n",
            "y_test shape: (10000, 10)\n"
          ],
          "name": "stdout"
        }
      ]
    },
    {
      "cell_type": "markdown",
      "metadata": {
        "id": "fytNaqPMy0uf"
      },
      "source": [
        "# Build the model\n",
        "Building the neural network requires configuring the layers of the model then compiling the model.\n",
        "\n",
        "# Setup the layers"
      ]
    },
    {
      "cell_type": "code",
      "metadata": {
        "id": "p5P1W5284GnQ"
      },
      "source": [
        "model = Sequential()\n",
        "model.add(Conv2D(32, kernel_size=(3, 3),\n",
        "                 activation='relu',\n",
        "                 input_shape=(img_rows, img_cols, 1)))\n",
        "#project 3 : Add the two layers should be added here to run the full code!\n",
        "#model.add(Conv2D())\n",
        "#model.add(MaxPooling2D())\n",
        "model.add(Dropout(0.4))\n",
        "model.add(Flatten())\n",
        "model.add(Dense(128, activation='relu'))\n",
        "model.add(Dropout(0.3))\n",
        "model.add(Dense(10, activation='softmax'))"
      ],
      "execution_count": null,
      "outputs": []
    },
    {
      "cell_type": "markdown",
      "metadata": {
        "id": "PcUJoY_V2eJc"
      },
      "source": [
        "# Print the details of the model"
      ]
    },
    {
      "cell_type": "code",
      "metadata": {
        "id": "JS1UAbLt0SKu",
        "colab": {
          "base_uri": "https://localhost:8080/",
          "height": 661
        },
        "outputId": "d7062c47-56fa-4f37-fbd7-965841420786"
      },
      "source": [
        "#keras.utils.print_summary(model)\n",
        "# You can also plot instead\n",
        "keras.utils.plot_model(model)"
      ],
      "execution_count": null,
      "outputs": [
        {
          "output_type": "execute_result",
          "data": {
            "image/png": "[encoded data removed]",
            "text/plain": [
              "<IPython.core.display.Image object>"
            ]
          },
          "metadata": {
            "tags": []
          },
          "execution_count": 8
        }
      ]
    },
    {
      "cell_type": "markdown",
      "metadata": {
        "id": "uJxeGY6wy9SY"
      },
      "source": [
        "# Compile the model - define loss and optimizer"
      ]
    },
    {
      "cell_type": "code",
      "metadata": {
        "id": "xf9mmKWK4QMh"
      },
      "source": [
        "model.compile(\n",
        "  loss= 'categorical_crossentropy',\n",
        "  optimizer= 'adam',\n",
        "  metrics='accuracy'\n",
        "  )"
      ],
      "execution_count": null,
      "outputs": []
    },
    {
      "cell_type": "markdown",
      "metadata": {
        "id": "W1o7VFdvzCcY"
      },
      "source": [
        "# Train the model"
      ]
    },
    {
      "cell_type": "code",
      "metadata": {
        "id": "hRMGGn5g4RdW",
        "colab": {
          "base_uri": "https://localhost:8080/"
        },
        "outputId": "4aef5e50-c922-481d-93ce-a139c6e355e9"
      },
      "source": [
        "history = model.fit(\n",
        "  x_train, y_train,\n",
        "  epochs=30, batch_size=128,\n",
        "  validation_split=0.2\n",
        ")"
      ],
      "execution_count": null,
      "outputs": [
        {
          "output_type": "stream",
          "text": [
            "Epoch 1/30\n",
            "375/375 [==============================] - 3s 6ms/step - loss: 0.0176 - accuracy: 0.9936 - val_loss: 0.0565 - val_accuracy: 0.9863\n",
            "Epoch 2/30\n",
            "375/375 [==============================] - 2s 5ms/step - loss: 0.0166 - accuracy: 0.9939 - val_loss: 0.0596 - val_accuracy: 0.9862\n",
            "Epoch 3/30\n",
            "375/375 [==============================] - 2s 5ms/step - loss: 0.0163 - accuracy: 0.9946 - val_loss: 0.0588 - val_accuracy: 0.9862\n",
            "Epoch 4/30\n",
            "375/375 [==============================] - 2s 5ms/step - loss: 0.0133 - accuracy: 0.9958 - val_loss: 0.0571 - val_accuracy: 0.9865\n",
            "Epoch 5/30\n",
            "375/375 [==============================] - 2s 5ms/step - loss: 0.0120 - accuracy: 0.9956 - val_loss: 0.0633 - val_accuracy: 0.9861\n",
            "Epoch 6/30\n",
            "375/375 [==============================] - 2s 5ms/step - loss: 0.0128 - accuracy: 0.9959 - val_loss: 0.0609 - val_accuracy: 0.9855\n",
            "Epoch 7/30\n",
            "375/375 [==============================] - 2s 5ms/step - loss: 0.0130 - accuracy: 0.9955 - val_loss: 0.0588 - val_accuracy: 0.9865\n",
            "Epoch 8/30\n",
            "375/375 [==============================] - 2s 5ms/step - loss: 0.0095 - accuracy: 0.9965 - val_loss: 0.0623 - val_accuracy: 0.9864\n",
            "Epoch 9/30\n",
            "375/375 [==============================] - 2s 5ms/step - loss: 0.0101 - accuracy: 0.9963 - val_loss: 0.0613 - val_accuracy: 0.9860\n",
            "Epoch 10/30\n",
            "375/375 [==============================] - 2s 5ms/step - loss: 0.0109 - accuracy: 0.9964 - val_loss: 0.0561 - val_accuracy: 0.9876\n",
            "Epoch 11/30\n",
            "375/375 [==============================] - 2s 5ms/step - loss: 0.0097 - accuracy: 0.9965 - val_loss: 0.0630 - val_accuracy: 0.9867\n",
            "Epoch 12/30\n",
            "375/375 [==============================] - 2s 5ms/step - loss: 0.0096 - accuracy: 0.9967 - val_loss: 0.0660 - val_accuracy: 0.9866\n",
            "Epoch 13/30\n",
            "375/375 [==============================] - 2s 5ms/step - loss: 0.0081 - accuracy: 0.9971 - val_loss: 0.0679 - val_accuracy: 0.9861\n",
            "Epoch 14/30\n",
            "375/375 [==============================] - 2s 5ms/step - loss: 0.0087 - accuracy: 0.9967 - val_loss: 0.0701 - val_accuracy: 0.9862\n",
            "Epoch 15/30\n",
            "375/375 [==============================] - 2s 5ms/step - loss: 0.0081 - accuracy: 0.9969 - val_loss: 0.0685 - val_accuracy: 0.9870\n",
            "Epoch 16/30\n",
            "375/375 [==============================] - 2s 5ms/step - loss: 0.0088 - accuracy: 0.9968 - val_loss: 0.0657 - val_accuracy: 0.9876\n",
            "Epoch 17/30\n",
            "375/375 [==============================] - 2s 5ms/step - loss: 0.0078 - accuracy: 0.9973 - val_loss: 0.0640 - val_accuracy: 0.9869\n",
            "Epoch 18/30\n",
            "375/375 [==============================] - 2s 5ms/step - loss: 0.0076 - accuracy: 0.9974 - val_loss: 0.0698 - val_accuracy: 0.9868\n",
            "Epoch 19/30\n",
            "375/375 [==============================] - 2s 5ms/step - loss: 0.0074 - accuracy: 0.9977 - val_loss: 0.0784 - val_accuracy: 0.9860\n",
            "Epoch 20/30\n",
            "375/375 [==============================] - 2s 5ms/step - loss: 0.0052 - accuracy: 0.9984 - val_loss: 0.0726 - val_accuracy: 0.9868\n",
            "Epoch 21/30\n",
            "375/375 [==============================] - 2s 5ms/step - loss: 0.0062 - accuracy: 0.9981 - val_loss: 0.0720 - val_accuracy: 0.9873\n",
            "Epoch 22/30\n",
            "375/375 [==============================] - 2s 5ms/step - loss: 0.0073 - accuracy: 0.9975 - val_loss: 0.0719 - val_accuracy: 0.9861\n",
            "Epoch 23/30\n",
            "375/375 [==============================] - 2s 5ms/step - loss: 0.0079 - accuracy: 0.9975 - val_loss: 0.0686 - val_accuracy: 0.9875\n",
            "Epoch 24/30\n",
            "375/375 [==============================] - 2s 5ms/step - loss: 0.0056 - accuracy: 0.9981 - val_loss: 0.0773 - val_accuracy: 0.9867\n",
            "Epoch 25/30\n",
            "375/375 [==============================] - 2s 5ms/step - loss: 0.0060 - accuracy: 0.9976 - val_loss: 0.0734 - val_accuracy: 0.9875\n",
            "Epoch 26/30\n",
            "375/375 [==============================] - 2s 5ms/step - loss: 0.0059 - accuracy: 0.9978 - val_loss: 0.0801 - val_accuracy: 0.9868\n",
            "Epoch 27/30\n",
            "375/375 [==============================] - 2s 5ms/step - loss: 0.0052 - accuracy: 0.9981 - val_loss: 0.0768 - val_accuracy: 0.9861\n",
            "Epoch 28/30\n",
            "375/375 [==============================] - 2s 5ms/step - loss: 0.0076 - accuracy: 0.9978 - val_loss: 0.0712 - val_accuracy: 0.9867\n",
            "Epoch 29/30\n",
            "375/375 [==============================] - 2s 5ms/step - loss: 0.0071 - accuracy: 0.9977 - val_loss: 0.0792 - val_accuracy: 0.9860\n",
            "Epoch 30/30\n",
            "375/375 [==============================] - 2s 5ms/step - loss: 0.0061 - accuracy: 0.9978 - val_loss: 0.0779 - val_accuracy: 0.9870\n"
          ],
          "name": "stdout"
        }
      ]
    },
    {
      "cell_type": "markdown",
      "metadata": {
        "id": "TRNvyn8w21Wh"
      },
      "source": [
        "## The history object returned by fit() includes loss and accuracy metrics which we can plot"
      ]
    },
    {
      "cell_type": "code",
      "metadata": {
        "id": "-ShXK9eS6GBl",
        "colab": {
          "base_uri": "https://localhost:8080/",
          "height": 573
        },
        "outputId": "18551143-06cb-4388-9529-2857d4cd02b0"
      },
      "source": [
        "# Plot training & validation loss values\n",
        "plt.plot(history.history['loss'])\n",
        "plt.plot(history.history['val_loss'])\n",
        "plt.title('Model loss')\n",
        "plt.ylabel('Loss')\n",
        "plt.xlabel('Epoch')\n",
        "plt.legend(['Train', 'Test'], loc='upper left')\n",
        "plt.show()\n",
        "\n",
        "# Plot training & validation accuracy values\n",
        "plt.plot(history.history['accuracy'])\n",
        "plt.plot(history.history['val_accuracy'])\n",
        "plt.title('Model accuracy')\n",
        "plt.ylabel('Accuracy')\n",
        "plt.xlabel('Epoch')\n",
        "plt.legend(['Train', 'Test'], loc='upper left')\n",
        "plt.show()"
      ],
      "execution_count": null,
      "outputs": [
        {
          "output_type": "display_data",
          "data": {
            "image/png": "[encoded data removed]",
            "text/plain": [
              "<Figure size 432x288 with 1 Axes>"
            ]
          },
          "metadata": {
            "tags": [],
            "needs_background": "light"
          }
        },
        {
          "output_type": "display_data",
          "data": {
            "image/png": "[encoded data removed]",
            "text/plain": [
              "<Figure size 432x288 with 1 Axes>"
            ]
          },
          "metadata": {
            "tags": [],
            "needs_background": "light"
          }
        }
      ]
    },
    {
      "cell_type": "markdown",
      "metadata": {
        "id": "bUFlA5EvzFDB"
      },
      "source": [
        "### evaulating result"
      ]
    },
    {
      "cell_type": "code",
      "metadata": {
        "id": "R6U6JC6Z4Scj",
        "colab": {
          "base_uri": "https://localhost:8080/"
        },
        "outputId": "94983d83-8640-4e85-cb80-ec67b6c3629f"
      },
      "source": [
        "score = model.evaluate(x_test, y_test, verbose=0)\n",
        "print('Test loss:', score[0])\n",
        "print('Test accuracy:', score[1])"
      ],
      "execution_count": null,
      "outputs": [
        {
          "output_type": "stream",
          "text": [
            "Test loss: 0.07244317978620529\n",
            "Test accuracy: 0.9879000186920166\n"
          ],
          "name": "stdout"
        }
      ]
    },
    {
      "cell_type": "markdown",
      "metadata": {
        "id": "9Zdgj8PFzKCR"
      },
      "source": [
        "# Project 3\n",
        "## Add two layers after the initial convolutional layer in \"Setup the layers\" above\n",
        "1. Convolutional layer with kernel size 3 x 3 with relu\n",
        "2. Maxpool layer with size 2 x 2\n",
        "### Submit the code chunk below\n",
        "It should be of the form:\n",
        "\n",
        "---\n",
        "```\n",
        "model = Sequential()\n",
        "model.add(Conv2D(32, kernel_size=(3, 3),\n",
        "                 activation='relu',\n",
        "                 input_shape=(img_rows, img_cols, 1)))\n",
        "model.add(Your convolutional layer here!)\n",
        "model.add(Your maxpool layer here!)\n",
        "model.add(Dropout(0.25))\n",
        "model.add(Flatten())\n",
        "model.add(Dense(128, activation='relu'))\n",
        "model.add(Dropout(0.5))\n",
        "model.add(Dense(10, activation='softmax'))\n",
        "```\n",
        "---\n",
        "\n",
        "## Make sure you ran the full code with these two additional layers added, and report the final training accuracy value, test accuracy value.\n"
      ]
    },
    {
      "cell_type": "code",
      "metadata": {
        "id": "kmOm_dDFojM3"
      },
      "source": [
        "# Enter your code chunk here\n",
        "model = Sequential()\n",
        "model.add(Conv2D(32, kernel_size=(3, 3),\n",
        "                 activation='relu',\n",
        "                 input_shape=(img_rows, img_cols, 1)))\n",
        "# model.add(Your convolutional layer here!)\n",
        "# model.add(Your maxpool layer here!)\n",
        "model.add(Dropout(0.4))\n",
        "model.add(Flatten())\n",
        "model.add(Dense(128, activation='relu'))\n",
        "model.add(Dropout(0.3))\n",
        "model.add(Dense(10, activation='softmax'))"
      ],
      "execution_count": null,
      "outputs": []
    }
  ]
}